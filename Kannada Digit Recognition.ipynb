{
 "cells": [
  {
   "cell_type": "markdown",
   "metadata": {},
   "source": [
    "# Kannada Digit Recognition\n",
    "\n",
    "In modeling this data, I'll be following a three step training process, to create the best possible senario for creating my final predictions.  \n",
    "\n",
    "**First Training** In the first training of the model I'll be using a traditional train/test split of the training data alone, to both training and validate the model. If I notice the model overfits notably, I'll implement different techniques to reduce/correct this issue. To prevent overfitting I will either be increasing the dropout rate in the various Dropout layers in the model, by increasing the amount of pooling layers, or by implementing som eform of regulation.  \n",
    "\n",
    "**Second Training** In the second training of the model, I'll be using the entirity of the training data set to train the model, and then wil validate the model on the validation set, `Dig-MNIST.csv`. It may be easier to notice the effects of any overfitting in the model at this stage than it is in the original model, as I'll have the benefit of a much larger dataset, increasing the effect of overfitting if such an issue previously existed. If I notice such an issue, I'll again implement different techniques to reduce/correct this issue.  \n",
    "\n",
    "**Third Training** In the third and final training stage of the model, I will concatenate the training and validation data sets to create a new training set, `train_total`. I'll then use this uber-set to train the final model which will be used to predict the labels of the test set."
   ]
  },
  {
   "cell_type": "code",
   "execution_count": 1,
   "metadata": {},
   "outputs": [
    {
     "name": "stderr",
     "output_type": "stream",
     "text": [
      "Using TensorFlow backend.\n"
     ]
    }
   ],
   "source": [
    "#Imports\n",
    "import numpy as np\n",
    "import pandas as pd\n",
    "\n",
    "#Visualizations\n",
    "import matplotlib.pyplot as plt\n",
    "import seaborn as sns\n",
    "%matplotlib inline\n",
    "sns.set_style(\"whitegrid\")\n",
    "\n",
    "#Modeling\n",
    "from sklearn.model_selection import train_test_split\n",
    "from sklearn.metrics import confusion_matrix, accuracy_score\n",
    "\n",
    "#Keras\n",
    "import keras\n",
    "from keras.models import Sequential\n",
    "from keras.layers import Dense, MaxPool2D, Conv2D, Flatten, Dropout, BatchNormalization\n",
    "from keras.losses import categorical_crossentropy\n",
    "from keras.utils import to_categorical\n",
    "from keras.preprocessing.image import ImageDataGenerator\n",
    "from keras.callbacks import ReduceLROnPlateau"
   ]
  },
  {
   "cell_type": "markdown",
   "metadata": {},
   "source": [
    "## Data\n",
    "### Exploratory Analysis\n",
    "The data for this challenge can be found on [the kaggle competition page](). It consists of three seperate files: the training set, `train.csv`, the validation set, `Dig-MNIST.csv`, and the testing set, `test.csv`. These three sets each contain image data, stored in row/column styles. As such, each row of the data sets reflects a specific image, while the rows describe the information for the image. The first row contains the image label (or an id in the case of the test set), a number between 0-9, and the last 784 columns each show the value of the individual pixels as an integer between 0 and 255, inclusive, for the 28 x 28 pixel images."
   ]
  },
  {
   "cell_type": "code",
   "execution_count": 2,
   "metadata": {},
   "outputs": [],
   "source": [
    "#Data import\n",
    "train = pd.read_csv(\"Data/train.csv\")\n",
    "test = pd.read_csv(\"Data/test.csv\")\n",
    "validation = pd.read_csv(\"Data/Dig-MNIST.csv\")"
   ]
  },
  {
   "cell_type": "markdown",
   "metadata": {},
   "source": [
    "To verify the construction of the three dataframes, we will quickly review the first few rowsof the data."
   ]
  },
  {
   "cell_type": "markdown",
   "metadata": {},
   "source": [
    "**Training Data**  \n",
    "This data will be used through the training of all models."
   ]
  },
  {
   "cell_type": "code",
   "execution_count": 3,
   "metadata": {},
   "outputs": [
    {
     "data": {
      "text/html": [
       "<div>\n",
       "<style scoped>\n",
       "    .dataframe tbody tr th:only-of-type {\n",
       "        vertical-align: middle;\n",
       "    }\n",
       "\n",
       "    .dataframe tbody tr th {\n",
       "        vertical-align: top;\n",
       "    }\n",
       "\n",
       "    .dataframe thead th {\n",
       "        text-align: right;\n",
       "    }\n",
       "</style>\n",
       "<table border=\"1\" class=\"dataframe\">\n",
       "  <thead>\n",
       "    <tr style=\"text-align: right;\">\n",
       "      <th></th>\n",
       "      <th>label</th>\n",
       "      <th>pixel0</th>\n",
       "      <th>pixel1</th>\n",
       "      <th>pixel2</th>\n",
       "      <th>pixel3</th>\n",
       "      <th>pixel4</th>\n",
       "      <th>pixel5</th>\n",
       "      <th>pixel6</th>\n",
       "      <th>pixel7</th>\n",
       "      <th>pixel8</th>\n",
       "      <th>...</th>\n",
       "      <th>pixel774</th>\n",
       "      <th>pixel775</th>\n",
       "      <th>pixel776</th>\n",
       "      <th>pixel777</th>\n",
       "      <th>pixel778</th>\n",
       "      <th>pixel779</th>\n",
       "      <th>pixel780</th>\n",
       "      <th>pixel781</th>\n",
       "      <th>pixel782</th>\n",
       "      <th>pixel783</th>\n",
       "    </tr>\n",
       "  </thead>\n",
       "  <tbody>\n",
       "    <tr>\n",
       "      <th>0</th>\n",
       "      <td>0</td>\n",
       "      <td>0</td>\n",
       "      <td>0</td>\n",
       "      <td>0</td>\n",
       "      <td>0</td>\n",
       "      <td>0</td>\n",
       "      <td>0</td>\n",
       "      <td>0</td>\n",
       "      <td>0</td>\n",
       "      <td>0</td>\n",
       "      <td>...</td>\n",
       "      <td>0</td>\n",
       "      <td>0</td>\n",
       "      <td>0</td>\n",
       "      <td>0</td>\n",
       "      <td>0</td>\n",
       "      <td>0</td>\n",
       "      <td>0</td>\n",
       "      <td>0</td>\n",
       "      <td>0</td>\n",
       "      <td>0</td>\n",
       "    </tr>\n",
       "    <tr>\n",
       "      <th>1</th>\n",
       "      <td>1</td>\n",
       "      <td>0</td>\n",
       "      <td>0</td>\n",
       "      <td>0</td>\n",
       "      <td>0</td>\n",
       "      <td>0</td>\n",
       "      <td>0</td>\n",
       "      <td>0</td>\n",
       "      <td>0</td>\n",
       "      <td>0</td>\n",
       "      <td>...</td>\n",
       "      <td>0</td>\n",
       "      <td>0</td>\n",
       "      <td>0</td>\n",
       "      <td>0</td>\n",
       "      <td>0</td>\n",
       "      <td>0</td>\n",
       "      <td>0</td>\n",
       "      <td>0</td>\n",
       "      <td>0</td>\n",
       "      <td>0</td>\n",
       "    </tr>\n",
       "    <tr>\n",
       "      <th>2</th>\n",
       "      <td>2</td>\n",
       "      <td>0</td>\n",
       "      <td>0</td>\n",
       "      <td>0</td>\n",
       "      <td>0</td>\n",
       "      <td>0</td>\n",
       "      <td>0</td>\n",
       "      <td>0</td>\n",
       "      <td>0</td>\n",
       "      <td>0</td>\n",
       "      <td>...</td>\n",
       "      <td>0</td>\n",
       "      <td>0</td>\n",
       "      <td>0</td>\n",
       "      <td>0</td>\n",
       "      <td>0</td>\n",
       "      <td>0</td>\n",
       "      <td>0</td>\n",
       "      <td>0</td>\n",
       "      <td>0</td>\n",
       "      <td>0</td>\n",
       "    </tr>\n",
       "    <tr>\n",
       "      <th>3</th>\n",
       "      <td>3</td>\n",
       "      <td>0</td>\n",
       "      <td>0</td>\n",
       "      <td>0</td>\n",
       "      <td>0</td>\n",
       "      <td>0</td>\n",
       "      <td>0</td>\n",
       "      <td>0</td>\n",
       "      <td>0</td>\n",
       "      <td>0</td>\n",
       "      <td>...</td>\n",
       "      <td>0</td>\n",
       "      <td>0</td>\n",
       "      <td>0</td>\n",
       "      <td>0</td>\n",
       "      <td>0</td>\n",
       "      <td>0</td>\n",
       "      <td>0</td>\n",
       "      <td>0</td>\n",
       "      <td>0</td>\n",
       "      <td>0</td>\n",
       "    </tr>\n",
       "    <tr>\n",
       "      <th>4</th>\n",
       "      <td>4</td>\n",
       "      <td>0</td>\n",
       "      <td>0</td>\n",
       "      <td>0</td>\n",
       "      <td>0</td>\n",
       "      <td>0</td>\n",
       "      <td>0</td>\n",
       "      <td>0</td>\n",
       "      <td>0</td>\n",
       "      <td>0</td>\n",
       "      <td>...</td>\n",
       "      <td>0</td>\n",
       "      <td>0</td>\n",
       "      <td>0</td>\n",
       "      <td>0</td>\n",
       "      <td>0</td>\n",
       "      <td>0</td>\n",
       "      <td>0</td>\n",
       "      <td>0</td>\n",
       "      <td>0</td>\n",
       "      <td>0</td>\n",
       "    </tr>\n",
       "  </tbody>\n",
       "</table>\n",
       "<p>5 rows × 785 columns</p>\n",
       "</div>"
      ],
      "text/plain": [
       "   label  pixel0  pixel1  pixel2  pixel3  pixel4  pixel5  pixel6  pixel7  \\\n",
       "0      0       0       0       0       0       0       0       0       0   \n",
       "1      1       0       0       0       0       0       0       0       0   \n",
       "2      2       0       0       0       0       0       0       0       0   \n",
       "3      3       0       0       0       0       0       0       0       0   \n",
       "4      4       0       0       0       0       0       0       0       0   \n",
       "\n",
       "   pixel8  ...  pixel774  pixel775  pixel776  pixel777  pixel778  pixel779  \\\n",
       "0       0  ...         0         0         0         0         0         0   \n",
       "1       0  ...         0         0         0         0         0         0   \n",
       "2       0  ...         0         0         0         0         0         0   \n",
       "3       0  ...         0         0         0         0         0         0   \n",
       "4       0  ...         0         0         0         0         0         0   \n",
       "\n",
       "   pixel780  pixel781  pixel782  pixel783  \n",
       "0         0         0         0         0  \n",
       "1         0         0         0         0  \n",
       "2         0         0         0         0  \n",
       "3         0         0         0         0  \n",
       "4         0         0         0         0  \n",
       "\n",
       "[5 rows x 785 columns]"
      ]
     },
     "execution_count": 3,
     "metadata": {},
     "output_type": "execute_result"
    }
   ],
   "source": [
    "train.head()"
   ]
  },
  {
   "cell_type": "markdown",
   "metadata": {},
   "source": [
    "In grouping the training data by their labels we can verify the number of classes in our data, as well as the distribution of the digits in the data set. Ideally the sampling distribution of the digits should be uniform."
   ]
  },
  {
   "cell_type": "code",
   "execution_count": 4,
   "metadata": {},
   "outputs": [
    {
     "data": {
      "text/plain": [
       "Text(0.5, 1.0, 'Distribution of Digit Samples in the Training Set')"
      ]
     },
     "execution_count": 4,
     "metadata": {},
     "output_type": "execute_result"
    },
    {
     "data": {
      "image/png": "[encoded data removed]",
      "text/plain": [
       "<Figure size 432x288 with 1 Axes>"
      ]
     },
     "metadata": {
      "needs_background": "light"
     },
     "output_type": "display_data"
    }
   ],
   "source": [
    "sns.countplot(train[\"label\"])\n",
    "plt.title(\"Distribution of Digit Samples in the Training Set\")"
   ]
  },
  {
   "cell_type": "code",
   "execution_count": 5,
   "metadata": {},
   "outputs": [
    {
     "data": {
      "text/plain": [
       "label\n",
       "0    6000\n",
       "1    6000\n",
       "2    6000\n",
       "3    6000\n",
       "4    6000\n",
       "5    6000\n",
       "6    6000\n",
       "7    6000\n",
       "8    6000\n",
       "9    6000\n",
       "dtype: int64"
      ]
     },
     "execution_count": 5,
     "metadata": {},
     "output_type": "execute_result"
    }
   ],
   "source": [
    "train.groupby(train[\"label\"]).size()"
   ]
  },
  {
   "cell_type": "markdown",
   "metadata": {},
   "source": [
    "**Validation Data**  \n",
    "This data will be used as the validation data in the model witch trains on the full training set, and will be concatenated with the training data for the final submission model."
   ]
  },
  {
   "cell_type": "code",
   "execution_count": 6,
   "metadata": {
    "scrolled": true
   },
   "outputs": [
    {
     "data": {
      "text/html": [
       "<div>\n",
       "<style scoped>\n",
       "    .dataframe tbody tr th:only-of-type {\n",
       "        vertical-align: middle;\n",
       "    }\n",
       "\n",
       "    .dataframe tbody tr th {\n",
       "        vertical-align: top;\n",
       "    }\n",
       "\n",
       "    .dataframe thead th {\n",
       "        text-align: right;\n",
       "    }\n",
       "</style>\n",
       "<table border=\"1\" class=\"dataframe\">\n",
       "  <thead>\n",
       "    <tr style=\"text-align: right;\">\n",
       "      <th></th>\n",
       "      <th>label</th>\n",
       "      <th>pixel0</th>\n",
       "      <th>pixel1</th>\n",
       "      <th>pixel2</th>\n",
       "      <th>pixel3</th>\n",
       "      <th>pixel4</th>\n",
       "      <th>pixel5</th>\n",
       "      <th>pixel6</th>\n",
       "      <th>pixel7</th>\n",
       "      <th>pixel8</th>\n",
       "      <th>...</th>\n",
       "      <th>pixel774</th>\n",
       "      <th>pixel775</th>\n",
       "      <th>pixel776</th>\n",
       "      <th>pixel777</th>\n",
       "      <th>pixel778</th>\n",
       "      <th>pixel779</th>\n",
       "      <th>pixel780</th>\n",
       "      <th>pixel781</th>\n",
       "      <th>pixel782</th>\n",
       "      <th>pixel783</th>\n",
       "    </tr>\n",
       "  </thead>\n",
       "  <tbody>\n",
       "    <tr>\n",
       "      <th>0</th>\n",
       "      <td>0</td>\n",
       "      <td>0</td>\n",
       "      <td>0</td>\n",
       "      <td>0</td>\n",
       "      <td>0</td>\n",
       "      <td>0</td>\n",
       "      <td>0</td>\n",
       "      <td>0</td>\n",
       "      <td>0</td>\n",
       "      <td>0</td>\n",
       "      <td>...</td>\n",
       "      <td>0</td>\n",
       "      <td>0</td>\n",
       "      <td>0</td>\n",
       "      <td>0</td>\n",
       "      <td>0</td>\n",
       "      <td>0</td>\n",
       "      <td>0</td>\n",
       "      <td>0</td>\n",
       "      <td>0</td>\n",
       "      <td>0</td>\n",
       "    </tr>\n",
       "    <tr>\n",
       "      <th>1</th>\n",
       "      <td>1</td>\n",
       "      <td>0</td>\n",
       "      <td>0</td>\n",
       "      <td>0</td>\n",
       "      <td>0</td>\n",
       "      <td>0</td>\n",
       "      <td>0</td>\n",
       "      <td>0</td>\n",
       "      <td>0</td>\n",
       "      <td>0</td>\n",
       "      <td>...</td>\n",
       "      <td>0</td>\n",
       "      <td>0</td>\n",
       "      <td>0</td>\n",
       "      <td>0</td>\n",
       "      <td>0</td>\n",
       "      <td>0</td>\n",
       "      <td>0</td>\n",
       "      <td>0</td>\n",
       "      <td>0</td>\n",
       "      <td>0</td>\n",
       "    </tr>\n",
       "    <tr>\n",
       "      <th>2</th>\n",
       "      <td>2</td>\n",
       "      <td>0</td>\n",
       "      <td>0</td>\n",
       "      <td>0</td>\n",
       "      <td>0</td>\n",
       "      <td>0</td>\n",
       "      <td>0</td>\n",
       "      <td>0</td>\n",
       "      <td>0</td>\n",
       "      <td>0</td>\n",
       "      <td>...</td>\n",
       "      <td>0</td>\n",
       "      <td>0</td>\n",
       "      <td>0</td>\n",
       "      <td>0</td>\n",
       "      <td>0</td>\n",
       "      <td>0</td>\n",
       "      <td>0</td>\n",
       "      <td>0</td>\n",
       "      <td>0</td>\n",
       "      <td>0</td>\n",
       "    </tr>\n",
       "    <tr>\n",
       "      <th>3</th>\n",
       "      <td>3</td>\n",
       "      <td>0</td>\n",
       "      <td>0</td>\n",
       "      <td>0</td>\n",
       "      <td>0</td>\n",
       "      <td>0</td>\n",
       "      <td>0</td>\n",
       "      <td>0</td>\n",
       "      <td>0</td>\n",
       "      <td>0</td>\n",
       "      <td>...</td>\n",
       "      <td>0</td>\n",
       "      <td>0</td>\n",
       "      <td>0</td>\n",
       "      <td>0</td>\n",
       "      <td>0</td>\n",
       "      <td>0</td>\n",
       "      <td>0</td>\n",
       "      <td>0</td>\n",
       "      <td>0</td>\n",
       "      <td>0</td>\n",
       "    </tr>\n",
       "    <tr>\n",
       "      <th>4</th>\n",
       "      <td>4</td>\n",
       "      <td>0</td>\n",
       "      <td>0</td>\n",
       "      <td>0</td>\n",
       "      <td>0</td>\n",
       "      <td>0</td>\n",
       "      <td>0</td>\n",
       "      <td>0</td>\n",
       "      <td>0</td>\n",
       "      <td>0</td>\n",
       "      <td>...</td>\n",
       "      <td>0</td>\n",
       "      <td>0</td>\n",
       "      <td>0</td>\n",
       "      <td>0</td>\n",
       "      <td>0</td>\n",
       "      <td>0</td>\n",
       "      <td>0</td>\n",
       "      <td>0</td>\n",
       "      <td>0</td>\n",
       "      <td>0</td>\n",
       "    </tr>\n",
       "  </tbody>\n",
       "</table>\n",
       "<p>5 rows × 785 columns</p>\n",
       "</div>"
      ],
      "text/plain": [
       "   label  pixel0  pixel1  pixel2  pixel3  pixel4  pixel5  pixel6  pixel7  \\\n",
       "0      0       0       0       0       0       0       0       0       0   \n",
       "1      1       0       0       0       0       0       0       0       0   \n",
       "2      2       0       0       0       0       0       0       0       0   \n",
       "3      3       0       0       0       0       0       0       0       0   \n",
       "4      4       0       0       0       0       0       0       0       0   \n",
       "\n",
       "   pixel8  ...  pixel774  pixel775  pixel776  pixel777  pixel778  pixel779  \\\n",
       "0       0  ...         0         0         0         0         0         0   \n",
       "1       0  ...         0         0         0         0         0         0   \n",
       "2       0  ...         0         0         0         0         0         0   \n",
       "3       0  ...         0         0         0         0         0         0   \n",
       "4       0  ...         0         0         0         0         0         0   \n",
       "\n",
       "   pixel780  pixel781  pixel782  pixel783  \n",
       "0         0         0         0         0  \n",
       "1         0         0         0         0  \n",
       "2         0         0         0         0  \n",
       "3         0         0         0         0  \n",
       "4         0         0         0         0  \n",
       "\n",
       "[5 rows x 785 columns]"
      ]
     },
     "execution_count": 6,
     "metadata": {},
     "output_type": "execute_result"
    }
   ],
   "source": [
    "validation.head()"
   ]
  },
  {
   "cell_type": "markdown",
   "metadata": {},
   "source": [
    "Although we don't usually need to be as highly concerned with the distribution of the test set, I will be, at some point in the analysis, combining the training and validation data, to fully train the model I'll be using for my submission, in order to provide the most training data as possible for the final model.  \n",
    "As such, I'm going to review the distribution of the validation set as well."
   ]
  },
  {
   "cell_type": "code",
   "execution_count": 7,
   "metadata": {},
   "outputs": [
    {
     "data": {
      "text/plain": [
       "Text(0.5, 1.0, 'Distribution of Digit Samples in Validation Set')"
      ]
     },
     "execution_count": 7,
     "metadata": {},
     "output_type": "execute_result"
    },
    {
     "data": {
      "image/png": "[encoded data removed]",
      "text/plain": [
       "<Figure size 432x288 with 1 Axes>"
      ]
     },
     "metadata": {
      "needs_background": "light"
     },
     "output_type": "display_data"
    }
   ],
   "source": [
    "sns.countplot(validation[\"label\"])\n",
    "plt.title(\"Distribution of Digit Samples in Validation Set\")"
   ]
  },
  {
   "cell_type": "code",
   "execution_count": 8,
   "metadata": {},
   "outputs": [
    {
     "data": {
      "text/plain": [
       "label\n",
       "0    1024\n",
       "1    1024\n",
       "2    1024\n",
       "3    1024\n",
       "4    1024\n",
       "5    1024\n",
       "6    1024\n",
       "7    1024\n",
       "8    1024\n",
       "9    1024\n",
       "dtype: int64"
      ]
     },
     "execution_count": 8,
     "metadata": {},
     "output_type": "execute_result"
    }
   ],
   "source": [
    "validation.groupby(validation[\"label\"]).size()"
   ]
  },
  {
   "cell_type": "markdown",
   "metadata": {},
   "source": [
    "**Testing Data**  \n",
    "This data will be used to generate the class predictions for the competition submissions."
   ]
  },
  {
   "cell_type": "code",
   "execution_count": 9,
   "metadata": {
    "scrolled": true
   },
   "outputs": [
    {
     "data": {
      "text/html": [
       "<div>\n",
       "<style scoped>\n",
       "    .dataframe tbody tr th:only-of-type {\n",
       "        vertical-align: middle;\n",
       "    }\n",
       "\n",
       "    .dataframe tbody tr th {\n",
       "        vertical-align: top;\n",
       "    }\n",
       "\n",
       "    .dataframe thead th {\n",
       "        text-align: right;\n",
       "    }\n",
       "</style>\n",
       "<table border=\"1\" class=\"dataframe\">\n",
       "  <thead>\n",
       "    <tr style=\"text-align: right;\">\n",
       "      <th></th>\n",
       "      <th>id</th>\n",
       "      <th>pixel0</th>\n",
       "      <th>pixel1</th>\n",
       "      <th>pixel2</th>\n",
       "      <th>pixel3</th>\n",
       "      <th>pixel4</th>\n",
       "      <th>pixel5</th>\n",
       "      <th>pixel6</th>\n",
       "      <th>pixel7</th>\n",
       "      <th>pixel8</th>\n",
       "      <th>...</th>\n",
       "      <th>pixel774</th>\n",
       "      <th>pixel775</th>\n",
       "      <th>pixel776</th>\n",
       "      <th>pixel777</th>\n",
       "      <th>pixel778</th>\n",
       "      <th>pixel779</th>\n",
       "      <th>pixel780</th>\n",
       "      <th>pixel781</th>\n",
       "      <th>pixel782</th>\n",
       "      <th>pixel783</th>\n",
       "    </tr>\n",
       "  </thead>\n",
       "  <tbody>\n",
       "    <tr>\n",
       "      <th>0</th>\n",
       "      <td>0</td>\n",
       "      <td>0</td>\n",
       "      <td>0</td>\n",
       "      <td>0</td>\n",
       "      <td>0</td>\n",
       "      <td>0</td>\n",
       "      <td>0</td>\n",
       "      <td>0</td>\n",
       "      <td>0</td>\n",
       "      <td>0</td>\n",
       "      <td>...</td>\n",
       "      <td>0</td>\n",
       "      <td>0</td>\n",
       "      <td>0</td>\n",
       "      <td>0</td>\n",
       "      <td>0</td>\n",
       "      <td>0</td>\n",
       "      <td>0</td>\n",
       "      <td>0</td>\n",
       "      <td>0</td>\n",
       "      <td>0</td>\n",
       "    </tr>\n",
       "    <tr>\n",
       "      <th>1</th>\n",
       "      <td>1</td>\n",
       "      <td>0</td>\n",
       "      <td>0</td>\n",
       "      <td>0</td>\n",
       "      <td>0</td>\n",
       "      <td>0</td>\n",
       "      <td>0</td>\n",
       "      <td>0</td>\n",
       "      <td>0</td>\n",
       "      <td>0</td>\n",
       "      <td>...</td>\n",
       "      <td>0</td>\n",
       "      <td>0</td>\n",
       "      <td>0</td>\n",
       "      <td>0</td>\n",
       "      <td>0</td>\n",
       "      <td>0</td>\n",
       "      <td>0</td>\n",
       "      <td>0</td>\n",
       "      <td>0</td>\n",
       "      <td>0</td>\n",
       "    </tr>\n",
       "    <tr>\n",
       "      <th>2</th>\n",
       "      <td>2</td>\n",
       "      <td>0</td>\n",
       "      <td>0</td>\n",
       "      <td>0</td>\n",
       "      <td>0</td>\n",
       "      <td>0</td>\n",
       "      <td>0</td>\n",
       "      <td>0</td>\n",
       "      <td>0</td>\n",
       "      <td>0</td>\n",
       "      <td>...</td>\n",
       "      <td>0</td>\n",
       "      <td>0</td>\n",
       "      <td>0</td>\n",
       "      <td>0</td>\n",
       "      <td>0</td>\n",
       "      <td>0</td>\n",
       "      <td>0</td>\n",
       "      <td>0</td>\n",
       "      <td>0</td>\n",
       "      <td>0</td>\n",
       "    </tr>\n",
       "    <tr>\n",
       "      <th>3</th>\n",
       "      <td>3</td>\n",
       "      <td>0</td>\n",
       "      <td>0</td>\n",
       "      <td>0</td>\n",
       "      <td>0</td>\n",
       "      <td>0</td>\n",
       "      <td>0</td>\n",
       "      <td>0</td>\n",
       "      <td>0</td>\n",
       "      <td>0</td>\n",
       "      <td>...</td>\n",
       "      <td>0</td>\n",
       "      <td>0</td>\n",
       "      <td>0</td>\n",
       "      <td>0</td>\n",
       "      <td>0</td>\n",
       "      <td>0</td>\n",
       "      <td>0</td>\n",
       "      <td>0</td>\n",
       "      <td>0</td>\n",
       "      <td>0</td>\n",
       "    </tr>\n",
       "    <tr>\n",
       "      <th>4</th>\n",
       "      <td>4</td>\n",
       "      <td>0</td>\n",
       "      <td>0</td>\n",
       "      <td>0</td>\n",
       "      <td>0</td>\n",
       "      <td>0</td>\n",
       "      <td>0</td>\n",
       "      <td>0</td>\n",
       "      <td>0</td>\n",
       "      <td>0</td>\n",
       "      <td>...</td>\n",
       "      <td>0</td>\n",
       "      <td>0</td>\n",
       "      <td>0</td>\n",
       "      <td>0</td>\n",
       "      <td>0</td>\n",
       "      <td>0</td>\n",
       "      <td>0</td>\n",
       "      <td>0</td>\n",
       "      <td>0</td>\n",
       "      <td>0</td>\n",
       "    </tr>\n",
       "  </tbody>\n",
       "</table>\n",
       "<p>5 rows × 785 columns</p>\n",
       "</div>"
      ],
      "text/plain": [
       "   id  pixel0  pixel1  pixel2  pixel3  pixel4  pixel5  pixel6  pixel7  pixel8  \\\n",
       "0   0       0       0       0       0       0       0       0       0       0   \n",
       "1   1       0       0       0       0       0       0       0       0       0   \n",
       "2   2       0       0       0       0       0       0       0       0       0   \n",
       "3   3       0       0       0       0       0       0       0       0       0   \n",
       "4   4       0       0       0       0       0       0       0       0       0   \n",
       "\n",
       "   ...  pixel774  pixel775  pixel776  pixel777  pixel778  pixel779  pixel780  \\\n",
       "0  ...         0         0         0         0         0         0         0   \n",
       "1  ...         0         0         0         0         0         0         0   \n",
       "2  ...         0         0         0         0         0         0         0   \n",
       "3  ...         0         0         0         0         0         0         0   \n",
       "4  ...         0         0         0         0         0         0         0   \n",
       "\n",
       "   pixel781  pixel782  pixel783  \n",
       "0         0         0         0  \n",
       "1         0         0         0  \n",
       "2         0         0         0  \n",
       "3         0         0         0  \n",
       "4         0         0         0  \n",
       "\n",
       "[5 rows x 785 columns]"
      ]
     },
     "execution_count": 9,
     "metadata": {},
     "output_type": "execute_result"
    }
   ],
   "source": [
    "test.head()"
   ]
  },
  {
   "cell_type": "markdown",
   "metadata": {},
   "source": [
    "### Data Treatment and Augmentation\n",
    "#### Data Treatment\n",
    "As the data is presented in row/column format, I need to transform it into matrix format both to visualize the images and for the keras CNN model I will be building.\n",
    "\n",
    "First I'll be spliting the label and id columns off of the three data sets, and storing them in seperate variables. I'll then be creating array verisions of the pixel information for the images. The labels will be sent to binary matrices made up of the class vectors for the labels, while the pixel information will be reshapped into the 28 x 28 pixel images. The pixel information will also be normalized, such the maxium pixel value will be 1, with a minimum of zero, to improve the accuracy of the model."
   ]
  },
  {
   "cell_type": "code",
   "execution_count": 10,
   "metadata": {},
   "outputs": [],
   "source": [
    "#Spliting off labels/Ids\n",
    "train_labels = to_categorical(train.iloc[:,0])\n",
    "train = train.iloc[:, 1:].values\n",
    "\n",
    "X_validation = validation.iloc[:, 1:].values\n",
    "y_validation = to_categorical(validation.iloc[:,0])\n",
    "\n",
    "test_id = test.iloc[:, 0]\n",
    "test = test.iloc[:, 1:].values"
   ]
  },
  {
   "cell_type": "code",
   "execution_count": 11,
   "metadata": {},
   "outputs": [],
   "source": [
    "#Normalizing the data\n",
    "train = train/255\n",
    "X_validation = X_validation/255\n",
    "\n",
    "test = test/255"
   ]
  },
  {
   "cell_type": "code",
   "execution_count": 12,
   "metadata": {},
   "outputs": [],
   "source": [
    "#Reshaping data\n",
    "train = train.reshape(train.shape[0], 28, 28, 1)\n",
    "\n",
    "X_validation = X_validation.reshape(validation.shape[0], 28, 28, 1)\n",
    "\n",
    "test = test.reshape(test.shape[0], 28, 28, 1)"
   ]
  },
  {
   "cell_type": "markdown",
   "metadata": {},
   "source": [
    "With our data now in the correct shape, lets visualize the training and the validation sets."
   ]
  },
  {
   "cell_type": "code",
   "execution_count": 13,
   "metadata": {},
   "outputs": [
    {
     "data": {
      "image/png": "[encoded data removed]",
      "text/plain": [
       "<Figure size 1080x504 with 50 Axes>"
      ]
     },
     "metadata": {
      "needs_background": "light"
     },
     "output_type": "display_data"
    }
   ],
   "source": [
    "#Visualizing the Training Data\n",
    "fig, ax = plt.subplots(5, 10)\n",
    "for i in range(5):\n",
    "    for j in range(10):\n",
    "        ax[i][j].imshow(train[np.random.randint(0, train.shape[0]), :, :, 0], cmap = plt.cm.binary)\n",
    "        ax[i][j].axis(\"off\")\n",
    "plt.subplots_adjust(wspace=0, hspace=0)\n",
    "fig.set_figwidth(15)\n",
    "fig.set_figheight(7)\n",
    "plt.savefig(\"Images/Random_digits_from_train.png\")"
   ]
  },
  {
   "cell_type": "markdown",
   "metadata": {},
   "source": [
    "The above is a random selection of 50 different diits in the training set. "
   ]
  },
  {
   "cell_type": "code",
   "execution_count": 14,
   "metadata": {},
   "outputs": [
    {
     "data": {
      "image/png": "[encoded data removed]",
      "text/plain": [
       "<Figure size 1080x504 with 50 Axes>"
      ]
     },
     "metadata": {
      "needs_background": "light"
     },
     "output_type": "display_data"
    }
   ],
   "source": [
    "#Visualizing the Validation Data\n",
    "fig, ax = plt.subplots(5, 10)\n",
    "for i in range(5):\n",
    "    for j in range(10):\n",
    "        ax[i][j].imshow(X_validation[np.random.randint(0, X_validation.shape[0]), :, :, 0], cmap = plt.cm.binary)\n",
    "        ax[i][j].axis(\"off\")\n",
    "plt.subplots_adjust(wspace=0, hspace=0)\n",
    "fig.set_figwidth(15)\n",
    "fig.set_figheight(7)\n",
    "plt.savefig(\"Images/Random_digits_from_valid.png\")"
   ]
  },
  {
   "cell_type": "markdown",
   "metadata": {},
   "source": [
    "The above is a random selection of 50 different digits in the validation set."
   ]
  },
  {
   "cell_type": "markdown",
   "metadata": {},
   "source": [
    "#### Data Augmentation\n",
    "The more data I can provide to the model, the more accurately it should be able to predict on new data. As I'm ~~unwilling~~ unable to draw another 60,000 digit samples to add to my training data, I'll be augmenting the training data using the keras utility `ImageDataGenerator()`. This will implement random alterations on various images throughout the data set, and then supplement the original training data with these new, slightly augmented images. My generator will,\n",
    "+ preform a random rotation of no more than 12 degrees\n",
    "+ modify the width of the image up to no more than 25% of the original width\n",
    "+ modify the height similarly to, but independantly from, the width\n",
    "+ shear the images (rotate the top of the image, bu not the bottom, imagine a rhombus compared to a rectagle) up to no more than 12 degrees\n",
    "+ preform a random zoom of the image up to 25% of the original image"
   ]
  },
  {
   "cell_type": "code",
   "execution_count": 15,
   "metadata": {},
   "outputs": [],
   "source": [
    "#Augmenting data\n",
    "train_datagen = ImageDataGenerator(\n",
    "    rotation_range=12,\n",
    "    width_shift_range=0.25,\n",
    "    height_shift_range=0.25,\n",
    "    shear_range=12,\n",
    "    zoom_range=0.25\n",
    ")\n",
    "\n",
    "valid_datagen = ImageDataGenerator()"
   ]
  },
  {
   "cell_type": "markdown",
   "metadata": {},
   "source": [
    "* * *"
   ]
  },
  {
   "cell_type": "markdown",
   "metadata": {},
   "source": [
    "## Modeling\n",
    "I'll be creating one model for this project, and then training the optimal fit of said  model three seperate times. In the process of optimizing the model, I'll first be overfitting the model, and then reducing/correcting for the overfitting in optimization. "
   ]
  },
  {
   "cell_type": "code",
   "execution_count": 16,
   "metadata": {},
   "outputs": [],
   "source": [
    "#Splitting train/test sets\n",
    "X_train, X_test, y_train, y_test = train_test_split(train, train_labels, test_size = 0.2, random_state = 84)"
   ]
  },
  {
   "cell_type": "markdown",
   "metadata": {},
   "source": [
    "Below I create the model function."
   ]
  },
  {
   "cell_type": "code",
   "execution_count": 24,
   "metadata": {},
   "outputs": [],
   "source": [
    "def build_model():\n",
    "    model = Sequential()\n",
    "    \n",
    "    #First set of covolutional layers\n",
    "    #Each with 32 unit output\n",
    "    model.add(Conv2D(32, (3,3), activation = \"relu\", input_shape = (28,28,1), padding = \"same\"))\n",
    "    model.add(BatchNormalization())\n",
    "    model.add(Conv2D(32, (3,3), activation = \"relu\"))\n",
    "    model.add(BatchNormalization())\n",
    "    model.add(Conv2D(32, (5,5), strides = (2,2) ,activation = \"relu\", padding = \"same\"))\n",
    "    model.add(BatchNormalization())\n",
    "    model.add(Dropout(0.25))\n",
    "    \n",
    "    #Second set of covolution layers\n",
    "    #Each with a 64 unit output\n",
    "    model.add(Conv2D(64, (3,3), activation = \"relu\", input_shape = (28,28,1), padding = \"same\"))\n",
    "    model.add(BatchNormalization())\n",
    "    model.add(Conv2D(64, (3,3), activation = \"relu\"))\n",
    "    model.add(BatchNormalization())\n",
    "    model.add(Conv2D(64, (5,5), strides = (2,2) ,activation = \"relu\", padding = \"same\"))\n",
    "    model.add(BatchNormalization())\n",
    "    model.add(Dropout(0.25))\n",
    "    \n",
    "    #Third set of covolution layers\n",
    "    #Each with a 128 unit output    \n",
    "    model.add(Conv2D(128, (3,3), activation = \"relu\", padding = \"same\"))\n",
    "    model.add(BatchNormalization())\n",
    "    model.add(Conv2D(128, (3,3), activation = \"relu\"))\n",
    "    model.add(BatchNormalization())\n",
    "    model.add(Conv2D(128, (5,5), strides = (2,2), activation = \"relu\", padding = \"same\"))\n",
    "    model.add(BatchNormalization())\n",
    "    model.add(Dropout(0.25))\n",
    "    \n",
    "    #Pooling Layer\n",
    "    model.add(MaxPool2D(2,2))\n",
    "    model.add(Dropout(0.25))\n",
    "    \n",
    "    #Fourth and final covolution layer\n",
    "    #Output of 256 units\n",
    "    model.add(Conv2D(256, (3,3), activation = \"relu\", padding = \"same\"))\n",
    "    model.add(BatchNormalization())\n",
    "    model.add(Dropout(0.25))\n",
    "    \n",
    "    #Flatteing model to pass to dense layer\n",
    "    model.add(Flatten())\n",
    "    \n",
    "    #First Dense Layer    \n",
    "    model.add(Dense(1024, activation = \"relu\"))\n",
    "    model.add(BatchNormalization())\n",
    "    model.add(Dropout(0.25))\n",
    "    \n",
    "    #Final Dense layer\n",
    "    #Used to predict the ten label classes    \n",
    "    model.add(Dense(10, activation = \"softmax\"))\n",
    "    \n",
    "    #Compile the model\n",
    "    model.compile(optimizer = \"adam\", loss = categorical_crossentropy, metrics = [\"accuracy\"])\n",
    "    \n",
    "    return(model)"
   ]
  },
  {
   "cell_type": "code",
   "execution_count": 25,
   "metadata": {},
   "outputs": [],
   "source": [
    "#model\n",
    "model = build_model()"
   ]
  },
  {
   "cell_type": "markdown",
   "metadata": {},
   "source": [
    "**First Training Step**  \n",
    "This is the first training of the model, in which the model is trained and validated on different splits of the training data set. The original training of this model showed an average accuracy of ! and a validation accuracy of !. Overfitting was considered at this stage, but I decided to wait and review the second training stage for issues which would stem from overfitting."
   ]
  },
  {
   "cell_type": "code",
   "execution_count": 60,
   "metadata": {
    "scrolled": false
   },
   "outputs": [
    {
     "name": "stdout",
     "output_type": "stream",
     "text": [
      "Epoch 1/50\n",
      "50/50 [==============================] - 819s 16s/step - loss: 1.0951 - accuracy: 0.6337 - val_loss: 4.4651 - val_accuracy: 0.0955\n",
      "Epoch 2/50\n",
      "50/50 [==============================] - 727s 15s/step - loss: 0.2687 - accuracy: 0.9092 - val_loss: 13.4660 - val_accuracy: 0.0955\n",
      "Epoch 3/50\n",
      "50/50 [==============================] - 903s 18s/step - loss: 0.1671 - accuracy: 0.9450 - val_loss: 22.6929 - val_accuracy: 0.0955\n",
      "Epoch 4/50\n",
      "50/50 [==============================] - 444s 9s/step - loss: 0.1277 - accuracy: 0.9582 - val_loss: 26.4625 - val_accuracy: 0.0955\n",
      "Epoch 5/50\n",
      "50/50 [==============================] - 431s 9s/step - loss: 0.1097 - accuracy: 0.9633 - val_loss: 29.6117 - val_accuracy: 0.0955\n",
      "Epoch 6/50\n",
      "50/50 [==============================] - 433s 9s/step - loss: 0.0949 - accuracy: 0.9685 - val_loss: 28.7556 - val_accuracy: 0.0955\n",
      "Epoch 7/50\n",
      "50/50 [==============================] - 430s 9s/step - loss: 0.0843 - accuracy: 0.9725 - val_loss: 25.4256 - val_accuracy: 0.0955\n",
      "Epoch 8/50\n",
      "50/50 [==============================] - 431s 9s/step - loss: 0.0834 - accuracy: 0.9729 - val_loss: 39.0826 - val_accuracy: 0.0955\n",
      "Epoch 9/50\n",
      "50/50 [==============================] - 428s 9s/step - loss: 0.0699 - accuracy: 0.9777 - val_loss: 31.5518 - val_accuracy: 0.0955\n",
      "Epoch 10/50\n",
      "50/50 [==============================] - 429s 9s/step - loss: 0.0676 - accuracy: 0.9781 - val_loss: 29.1260 - val_accuracy: 0.0955\n",
      "Epoch 11/50\n",
      "50/50 [==============================] - 428s 9s/step - loss: 0.0640 - accuracy: 0.9793 - val_loss: 30.0473 - val_accuracy: 0.0955\n",
      "Epoch 12/50\n",
      "50/50 [==============================] - 431s 9s/step - loss: 0.0593 - accuracy: 0.9806 - val_loss: 18.0214 - val_accuracy: 0.1055\n",
      "Epoch 13/50\n",
      "50/50 [==============================] - 430s 9s/step - loss: 0.0550 - accuracy: 0.9821 - val_loss: 14.9122 - val_accuracy: 0.1616\n",
      "Epoch 14/50\n",
      "50/50 [==============================] - 428s 9s/step - loss: 0.0541 - accuracy: 0.9822 - val_loss: 1.3548 - val_accuracy: 0.7368\n",
      "Epoch 15/50\n",
      "50/50 [==============================] - 427s 9s/step - loss: 0.0502 - accuracy: 0.9840 - val_loss: 0.0199 - val_accuracy: 0.9937\n",
      "Epoch 16/50\n",
      "50/50 [==============================] - 429s 9s/step - loss: 0.0499 - accuracy: 0.9834 - val_loss: 3.4115 - val_accuracy: 0.5039\n",
      "Epoch 17/50\n",
      "50/50 [==============================] - 427s 9s/step - loss: 0.0470 - accuracy: 0.9842 - val_loss: 0.1591 - val_accuracy: 0.9502\n",
      "Epoch 18/50\n",
      "50/50 [==============================] - 428s 9s/step - loss: 0.0446 - accuracy: 0.9852 - val_loss: 0.0181 - val_accuracy: 0.9951\n",
      "Epoch 19/50\n",
      "50/50 [==============================] - 429s 9s/step - loss: 0.0417 - accuracy: 0.9863 - val_loss: 0.0224 - val_accuracy: 0.9941\n",
      "Epoch 20/50\n",
      "50/50 [==============================] - 430s 9s/step - loss: 0.0426 - accuracy: 0.9860 - val_loss: 0.0160 - val_accuracy: 0.9958\n",
      "Epoch 21/50\n",
      "50/50 [==============================] - 440s 9s/step - loss: 0.0426 - accuracy: 0.9861 - val_loss: 0.0184 - val_accuracy: 0.9952\n",
      "Epoch 22/50\n",
      "50/50 [==============================] - 550s 11s/step - loss: 0.0431 - accuracy: 0.9859 - val_loss: 0.0175 - val_accuracy: 0.9952\n",
      "Epoch 23/50\n",
      "50/50 [==============================] - 627s 13s/step - loss: 0.0391 - accuracy: 0.9872 - val_loss: 0.3009 - val_accuracy: 0.9090\n",
      "Epoch 24/50\n",
      "50/50 [==============================] - 552s 11s/step - loss: 0.0412 - accuracy: 0.9867 - val_loss: 0.0155 - val_accuracy: 0.9954\n",
      "Epoch 25/50\n",
      "50/50 [==============================] - 626s 13s/step - loss: 0.0373 - accuracy: 0.9879 - val_loss: 0.0161 - val_accuracy: 0.9954\n",
      "Epoch 26/50\n",
      "50/50 [==============================] - 600s 12s/step - loss: 0.0352 - accuracy: 0.9887 - val_loss: 0.0157 - val_accuracy: 0.9958\n",
      "Epoch 27/50\n",
      "50/50 [==============================] - 535s 11s/step - loss: 0.0363 - accuracy: 0.9884 - val_loss: 0.0257 - val_accuracy: 0.9931\n",
      "Epoch 28/50\n",
      "50/50 [==============================] - 500s 10s/step - loss: 0.0385 - accuracy: 0.9876 - val_loss: 0.0163 - val_accuracy: 0.9960\n",
      "Epoch 29/50\n",
      "50/50 [==============================] - 588s 12s/step - loss: 0.0338 - accuracy: 0.9887 - val_loss: 0.0161 - val_accuracy: 0.9962\n",
      "Epoch 30/50\n",
      "50/50 [==============================] - 830s 17s/step - loss: 0.0337 - accuracy: 0.9895 - val_loss: 0.0149 - val_accuracy: 0.9960\n",
      "Epoch 31/50\n",
      "50/50 [==============================] - 895s 18s/step - loss: 0.0367 - accuracy: 0.9882 - val_loss: 0.0315 - val_accuracy: 0.9913\n",
      "Epoch 32/50\n",
      "50/50 [==============================] - 894s 18s/step - loss: 0.0345 - accuracy: 0.9892 - val_loss: 0.0152 - val_accuracy: 0.9965\n",
      "Epoch 33/50\n",
      "50/50 [==============================] - 1044s 21s/step - loss: 0.0337 - accuracy: 0.9892 - val_loss: 0.0346 - val_accuracy: 0.9898\n",
      "Epoch 34/50\n",
      "50/50 [==============================] - 998s 20s/step - loss: 0.0328 - accuracy: 0.9894 - val_loss: 0.0155 - val_accuracy: 0.9964\n",
      "Epoch 35/50\n",
      "50/50 [==============================] - 885s 18s/step - loss: 0.0323 - accuracy: 0.9896 - val_loss: 0.0131 - val_accuracy: 0.9965\n",
      "Epoch 36/50\n",
      "50/50 [==============================] - 1033s 21s/step - loss: 0.0302 - accuracy: 0.9897 - val_loss: 0.0130 - val_accuracy: 0.9973\n",
      "Epoch 37/50\n",
      "50/50 [==============================] - 1029s 21s/step - loss: 0.0347 - accuracy: 0.9887 - val_loss: 0.0387 - val_accuracy: 0.9868\n",
      "Epoch 38/50\n",
      "50/50 [==============================] - 983s 20s/step - loss: 0.0298 - accuracy: 0.9902 - val_loss: 0.0156 - val_accuracy: 0.9957\n",
      "Epoch 39/50\n",
      "50/50 [==============================] - 551s 11s/step - loss: 0.0315 - accuracy: 0.9896 - val_loss: 0.0380 - val_accuracy: 0.9882\n",
      "Epoch 40/50\n",
      "50/50 [==============================] - 556s 11s/step - loss: 0.0333 - accuracy: 0.9891 - val_loss: 0.0183 - val_accuracy: 0.9952\n",
      "Epoch 41/50\n",
      "50/50 [==============================] - 553s 11s/step - loss: 0.0316 - accuracy: 0.9898 - val_loss: 0.0208 - val_accuracy: 0.9952\n",
      "Epoch 42/50\n",
      "50/50 [==============================] - 552s 11s/step - loss: 0.0296 - accuracy: 0.9902 - val_loss: 0.0156 - val_accuracy: 0.9960\n",
      "Epoch 43/50\n",
      "50/50 [==============================] - 552s 11s/step - loss: 0.0288 - accuracy: 0.9904 - val_loss: 0.0132 - val_accuracy: 0.9973\n",
      "Epoch 44/50\n",
      "50/50 [==============================] - 550s 11s/step - loss: 0.0276 - accuracy: 0.9913 - val_loss: 0.0207 - val_accuracy: 0.9945\n",
      "Epoch 45/50\n",
      "50/50 [==============================] - 551s 11s/step - loss: 0.0296 - accuracy: 0.9905 - val_loss: 0.0206 - val_accuracy: 0.9945\n",
      "Epoch 46/50\n",
      "50/50 [==============================] - 554s 11s/step - loss: 0.0303 - accuracy: 0.9905 - val_loss: 0.0158 - val_accuracy: 0.9963\n",
      "Epoch 47/50\n",
      "50/50 [==============================] - 552s 11s/step - loss: 0.0284 - accuracy: 0.9907 - val_loss: 0.0158 - val_accuracy: 0.9965\n",
      "Epoch 48/50\n",
      "50/50 [==============================] - 551s 11s/step - loss: 0.0268 - accuracy: 0.9908 - val_loss: 0.0643 - val_accuracy: 0.9810\n",
      "Epoch 49/50\n",
      "50/50 [==============================] - 494s 10s/step - loss: 0.0282 - accuracy: 0.9913 - val_loss: 0.0146 - val_accuracy: 0.9963\n",
      "Epoch 50/50\n",
      "50/50 [==============================] - 485s 10s/step - loss: 0.0277 - accuracy: 0.9907 - val_loss: 0.0157 - val_accuracy: 0.9961\n"
     ]
    }
   ],
   "source": [
    "#fitting model on training split\n",
    "history = model.fit_generator(\n",
    "    train_datagen.flow(X_train, y_train, batch_size = 1024), \n",
    "    epochs = 50,\n",
    "    steps_per_epoch=50,\n",
    "    #shuffle = True, this only has effect when steps_per_epoch = \"None\" \n",
    "    validation_data = (X_test, y_test))"
   ]
  },
  {
   "cell_type": "markdown",
   "metadata": {},
   "source": [
    "**Performance**"
   ]
  },
  {
   "cell_type": "markdown",
   "metadata": {},
   "source": [
    "The model is now trained! Let's review the performance of the first training step."
   ]
  },
  {
   "cell_type": "code",
   "execution_count": 61,
   "metadata": {},
   "outputs": [
    {
     "data": {
      "text/html": [
       "<div>\n",
       "<style scoped>\n",
       "    .dataframe tbody tr th:only-of-type {\n",
       "        vertical-align: middle;\n",
       "    }\n",
       "\n",
       "    .dataframe tbody tr th {\n",
       "        vertical-align: top;\n",
       "    }\n",
       "\n",
       "    .dataframe thead th {\n",
       "        text-align: right;\n",
       "    }\n",
       "</style>\n",
       "<table border=\"1\" class=\"dataframe\">\n",
       "  <thead>\n",
       "    <tr style=\"text-align: right;\">\n",
       "      <th></th>\n",
       "      <th>val_loss</th>\n",
       "      <th>val_accuracy</th>\n",
       "      <th>loss</th>\n",
       "      <th>accuracy</th>\n",
       "    </tr>\n",
       "  </thead>\n",
       "  <tbody>\n",
       "    <tr>\n",
       "      <th>mean</th>\n",
       "      <td>6.390599</td>\n",
       "      <td>0.744638</td>\n",
       "      <td>0.073532</td>\n",
       "      <td>0.975768</td>\n",
       "    </tr>\n",
       "    <tr>\n",
       "      <th>std</th>\n",
       "      <td>11.570182</td>\n",
       "      <td>0.393038</td>\n",
       "      <td>0.153251</td>\n",
       "      <td>0.051313</td>\n",
       "    </tr>\n",
       "    <tr>\n",
       "      <th>min</th>\n",
       "      <td>0.013016</td>\n",
       "      <td>0.095500</td>\n",
       "      <td>0.026821</td>\n",
       "      <td>0.633713</td>\n",
       "    </tr>\n",
       "    <tr>\n",
       "      <th>25%</th>\n",
       "      <td>0.015797</td>\n",
       "      <td>0.247167</td>\n",
       "      <td>0.031735</td>\n",
       "      <td>0.982167</td>\n",
       "    </tr>\n",
       "    <tr>\n",
       "      <th>50%</th>\n",
       "      <td>0.020718</td>\n",
       "      <td>0.994292</td>\n",
       "      <td>0.037935</td>\n",
       "      <td>0.987796</td>\n",
       "    </tr>\n",
       "    <tr>\n",
       "      <th>75%</th>\n",
       "      <td>4.201661</td>\n",
       "      <td>0.995958</td>\n",
       "      <td>0.054821</td>\n",
       "      <td>0.989574</td>\n",
       "    </tr>\n",
       "    <tr>\n",
       "      <th>max</th>\n",
       "      <td>39.082601</td>\n",
       "      <td>0.997333</td>\n",
       "      <td>1.095399</td>\n",
       "      <td>0.991326</td>\n",
       "    </tr>\n",
       "  </tbody>\n",
       "</table>\n",
       "</div>"
      ],
      "text/plain": [
       "       val_loss  val_accuracy      loss  accuracy\n",
       "mean   6.390599      0.744638  0.073532  0.975768\n",
       "std   11.570182      0.393038  0.153251  0.051313\n",
       "min    0.013016      0.095500  0.026821  0.633713\n",
       "25%    0.015797      0.247167  0.031735  0.982167\n",
       "50%    0.020718      0.994292  0.037935  0.987796\n",
       "75%    4.201661      0.995958  0.054821  0.989574\n",
       "max   39.082601      0.997333  1.095399  0.991326"
      ]
     },
     "execution_count": 61,
     "metadata": {},
     "output_type": "execute_result"
    }
   ],
   "source": [
    "pd.DataFrame(history.history).describe().iloc[1:,:]"
   ]
  },
  {
   "cell_type": "markdown",
   "metadata": {},
   "source": [
    "The above data frame shows the average training and validation behavior of he model in the first row."
   ]
  },
  {
   "cell_type": "code",
   "execution_count": 28,
   "metadata": {},
   "outputs": [
    {
     "ename": "NameError",
     "evalue": "name 'history' is not defined",
     "output_type": "error",
     "traceback": [
      "\u001b[0;31m---------------------------------------------------------------------------\u001b[0m",
      "\u001b[0;31mNameError\u001b[0m                                 Traceback (most recent call last)",
      "\u001b[0;32m<ipython-input-28-58613c803252>\u001b[0m in \u001b[0;36m<module>\u001b[0;34m\u001b[0m\n\u001b[1;32m      1\u001b[0m \u001b[0;31m#predicting on the test split\u001b[0m\u001b[0;34m\u001b[0m\u001b[0;34m\u001b[0m\u001b[0;34m\u001b[0m\u001b[0m\n\u001b[0;32m----> 2\u001b[0;31m \u001b[0mpreds\u001b[0m \u001b[0;34m=\u001b[0m \u001b[0mhistory\u001b[0m\u001b[0;34m.\u001b[0m\u001b[0mmodel\u001b[0m\u001b[0;34m.\u001b[0m\u001b[0mpredict_classes\u001b[0m\u001b[0;34m(\u001b[0m\u001b[0mX_test\u001b[0m\u001b[0;34m)\u001b[0m\u001b[0;34m\u001b[0m\u001b[0;34m\u001b[0m\u001b[0m\n\u001b[0m",
      "\u001b[0;31mNameError\u001b[0m: name 'history' is not defined"
     ]
    }
   ],
   "source": [
    "#predicting on the test split\n",
    "preds = history.model.predict_classes(X_test)"
   ]
  },
  {
   "cell_type": "code",
   "execution_count": 64,
   "metadata": {},
   "outputs": [
    {
     "data": {
      "text/plain": [
       "0.9960833333333333"
      ]
     },
     "execution_count": 64,
     "metadata": {},
     "output_type": "execute_result"
    }
   ],
   "source": [
    "#accuracy of the predictions\n",
    "accuracy_score(preds, np.array(y_test_labels))"
   ]
  },
  {
   "cell_type": "markdown",
   "metadata": {},
   "source": [
    "The model seems to have performed exceptionally well in this first round of trianing, with regard to prediction. "
   ]
  },
  {
   "cell_type": "markdown",
   "metadata": {},
   "source": [
    "**Visualizations**"
   ]
  },
  {
   "cell_type": "code",
   "execution_count": 68,
   "metadata": {},
   "outputs": [
    {
     "data": {
      "image/png": "[encoded data removed]",
      "text/plain": [
       "<Figure size 648x504 with 1 Axes>"
      ]
     },
     "metadata": {},
     "output_type": "display_data"
    }
   ],
   "source": [
    "plt.figure(figsize=(9,7))\n",
    "plt.plot(history.history[\"accuracy\"])\n",
    "plt.plot(history.history[\"val_accuracy\"])\n",
    "plt.title(\"Accuracy on Training Data vs. Accuracy on Validation Data\\nTraining Step 1\")\n",
    "plt.legend([\"Train\", \"Validation\"], loc = \"lower right\")\n",
    "plt.xlabel(\"Epoch\")\n",
    "plt.ylabel(\"Loss\")\n",
    "plt.savefig(\"Images/Accuracy_TrainS1.png\")"
   ]
  },
  {
   "cell_type": "code",
   "execution_count": 67,
   "metadata": {
    "scrolled": false
   },
   "outputs": [
    {
     "data": {
      "image/png": "[encoded data removed]",
      "text/plain": [
       "<Figure size 648x504 with 1 Axes>"
      ]
     },
     "metadata": {},
     "output_type": "display_data"
    }
   ],
   "source": [
    "plt.figure(figsize = (9,7))\n",
    "plt.plot(history.history[\"loss\"])\n",
    "plt.plot(history.history[\"val_loss\"])\n",
    "plt.title(\"Loss on Training Data vs. Loss on Validation Data\\nTraining Step 1\")\n",
    "plt.legend([\"Train\", \"Validation\"], loc = \"upper right\")\n",
    "plt.xlabel(\"Epoch\")\n",
    "plt.ylabel(\"Loss\")\n",
    "plt.savefig(\"Images/Loss_trainS1.png\")"
   ]
  },
  {
   "cell_type": "markdown",
   "metadata": {},
   "source": [
    "* * *"
   ]
  },
  {
   "cell_type": "markdown",
   "metadata": {},
   "source": [
    "**Second Training Step**  \n",
    "The model will be trained on the full training set in this step, and will be validated against the validation set."
   ]
  },
  {
   "cell_type": "code",
   "execution_count": null,
   "metadata": {},
   "outputs": [],
   "source": [
    "#Fitting on full training set\n",
    "#validation set used for validation\n",
    "history_full = model.fit_generator(\n",
    "    train_datagen.flow(train, train_labels, batch_size = 1024), \n",
    "    epochs = 50,\n",
    "    steps_per_epoch=train.shape[0]//1024,\n",
    "    validation_data = (X_validation, y_validation))"
   ]
  },
  {
   "cell_type": "markdown",
   "metadata": {},
   "source": [
    "The training for the second training step is complete! Lets review the history to see how well the model performed. "
   ]
  },
  {
   "cell_type": "markdown",
   "metadata": {},
   "source": [
    "**Performance**"
   ]
  },
  {
   "cell_type": "code",
   "execution_count": null,
   "metadata": {},
   "outputs": [],
   "source": [
    "pd.DataFrame(history_full.history).describe().iloc[1:,:]"
   ]
  },
  {
   "cell_type": "code",
   "execution_count": null,
   "metadata": {},
   "outputs": [],
   "source": [
    "preds = history_full.model.predict_classes(X_validation)"
   ]
  },
  {
   "cell_type": "code",
   "execution_count": null,
   "metadata": {},
   "outputs": [],
   "source": [
    "accuracy_score(preds, np.argmax(y_validation, axis = 1))"
   ]
  },
  {
   "cell_type": "code",
   "execution_count": null,
   "metadata": {},
   "outputs": [],
   "source": [
    "pd.crosstab(preds, validation.iloc[:,0])"
   ]
  },
  {
   "cell_type": "markdown",
   "metadata": {},
   "source": [
    "**Visualizations**  \n"
   ]
  },
  {
   "cell_type": "code",
   "execution_count": null,
   "metadata": {},
   "outputs": [],
   "source": [
    "plt.figure(figsize=(9,7))\n",
    "plt.plot(history_full.history[\"accuracy\"])\n",
    "plt.plot(history_full.history[\"val_accuracy\"])\n",
    "plt.title(\"Accuracy on Training Data vs. Accuracy on Validation Data\\nTraining Step 2\")\n",
    "plt.legend([\"Train\", \"Validation\"], loc = \"lower right\")\n",
    "plt.xlabel(\"Epoch\")\n",
    "plt.ylabel(\"Loss\")\n",
    "plt.savefig(\"Images/Accuracy_TrainS2.png\")"
   ]
  },
  {
   "cell_type": "code",
   "execution_count": null,
   "metadata": {
    "scrolled": true
   },
   "outputs": [],
   "source": [
    "plt.figure(figsize = (9,7))\n",
    "plt.plot(history_full.history[\"loss\"])\n",
    "plt.plot(history_full.history[\"val_loss\"])\n",
    "plt.title(\"Loss on Training Data vs. Loss on Validation Data\\nTraining Step 2\")\n",
    "plt.legend([\"Train\", \"Validation\"], loc = \"upper right\")\n",
    "plt.xlabel(\"Epoch\")\n",
    "plt.ylabel(\"Loss\")\n",
    "plt.savefig(\"Images/Loss_trainS2.png\")"
   ]
  },
  {
   "cell_type": "markdown",
   "metadata": {},
   "source": [
    "* * *"
   ]
  },
  {
   "cell_type": "markdown",
   "metadata": {},
   "source": [
    "**Third Training Step**  \n",
    "In this training step I'll be concatenating the training and validation sets, to provide the most data possible for the training og the model."
   ]
  },
  {
   "cell_type": "code",
   "execution_count": 16,
   "metadata": {},
   "outputs": [],
   "source": [
    "#concatenating data\n",
    "X_train_total = np.concatenate((train, X_validation))\n",
    "y_train_total = np.concatenate((train_labels, y_validation))"
   ]
  },
  {
   "cell_type": "code",
   "execution_count": 17,
   "metadata": {},
   "outputs": [
    {
     "data": {
      "text/plain": [
       "(70240, 28, 28, 1)"
      ]
     },
     "execution_count": 17,
     "metadata": {},
     "output_type": "execute_result"
    }
   ],
   "source": [
    "X_train_total.shape"
   ]
  },
  {
   "cell_type": "code",
   "execution_count": 18,
   "metadata": {},
   "outputs": [
    {
     "data": {
      "text/plain": [
       "(70240, 10)"
      ]
     },
     "execution_count": 18,
     "metadata": {},
     "output_type": "execute_result"
    }
   ],
   "source": [
    "y_train_total.shape"
   ]
  },
  {
   "cell_type": "code",
   "execution_count": 23,
   "metadata": {},
   "outputs": [],
   "source": [
    "#Reinitializing model\n",
    "model = build_model()"
   ]
  },
  {
   "cell_type": "code",
   "execution_count": 24,
   "metadata": {
    "scrolled": true
   },
   "outputs": [
    {
     "name": "stdout",
     "output_type": "stream",
     "text": [
      "Epoch 1/50\n",
      "68/68 [==============================] - 665s 10s/step - loss: 1.0503 - accuracy: 0.6571 - val_loss: 6.4817 - val_accuracy: 0.1000\n",
      "Epoch 2/50\n",
      "68/68 [==============================] - 645s 9s/step - loss: 0.3013 - accuracy: 0.9036 - val_loss: 22.2171 - val_accuracy: 0.1000\n",
      "Epoch 3/50\n",
      "68/68 [==============================] - 633s 9s/step - loss: 0.2035 - accuracy: 0.9350 - val_loss: 37.4244 - val_accuracy: 0.1000\n",
      "Epoch 4/50\n",
      "68/68 [==============================] - 785s 12s/step - loss: 0.1620 - accuracy: 0.9486 - val_loss: 47.4451 - val_accuracy: 0.1000\n",
      "Epoch 5/50\n",
      "68/68 [==============================] - 776s 11s/step - loss: 0.1352 - accuracy: 0.9573 - val_loss: 49.0867 - val_accuracy: 0.1000\n",
      "Epoch 6/50\n",
      "68/68 [==============================] - 835s 12s/step - loss: 0.1220 - accuracy: 0.9609 - val_loss: 58.3567 - val_accuracy: 0.1000\n",
      "Epoch 7/50\n",
      "68/68 [==============================] - 630s 9s/step - loss: 0.1097 - accuracy: 0.9648 - val_loss: 44.0836 - val_accuracy: 0.1000\n",
      "Epoch 8/50\n",
      "68/68 [==============================] - 629s 9s/step - loss: 0.0964 - accuracy: 0.9690 - val_loss: 29.4209 - val_accuracy: 0.1000\n",
      "Epoch 9/50\n",
      "68/68 [==============================] - 630s 9s/step - loss: 0.0933 - accuracy: 0.9705 - val_loss: 18.9443 - val_accuracy: 0.1001\n",
      "Epoch 10/50\n",
      "68/68 [==============================] - 632s 9s/step - loss: 0.0909 - accuracy: 0.9710 - val_loss: 0.9042 - val_accuracy: 0.8231\n",
      "Epoch 11/50\n",
      "68/68 [==============================] - 627s 9s/step - loss: 0.0830 - accuracy: 0.9741 - val_loss: 0.1011 - val_accuracy: 0.9106\n",
      "Epoch 12/50\n",
      "68/68 [==============================] - 631s 9s/step - loss: 0.0804 - accuracy: 0.9744 - val_loss: 0.3825 - val_accuracy: 0.9474\n",
      "Epoch 13/50\n",
      "68/68 [==============================] - 632s 9s/step - loss: 0.0755 - accuracy: 0.9764 - val_loss: 0.0613 - val_accuracy: 0.9698\n",
      "Epoch 14/50\n",
      "68/68 [==============================] - 625s 9s/step - loss: 0.0718 - accuracy: 0.9774 - val_loss: 0.0141 - val_accuracy: 0.9725\n",
      "Epoch 15/50\n",
      "68/68 [==============================] - 622s 9s/step - loss: 0.0706 - accuracy: 0.9771 - val_loss: 0.0393 - val_accuracy: 0.9757\n",
      "Epoch 16/50\n",
      "68/68 [==============================] - 627s 9s/step - loss: 0.0684 - accuracy: 0.9780 - val_loss: 0.0029 - val_accuracy: 0.9734\n",
      "Epoch 17/50\n",
      "68/68 [==============================] - 623s 9s/step - loss: 0.0639 - accuracy: 0.9794 - val_loss: 0.0141 - val_accuracy: 0.9734\n",
      "Epoch 18/50\n",
      "68/68 [==============================] - 631s 9s/step - loss: 0.0666 - accuracy: 0.9782 - val_loss: 0.5106 - val_accuracy: 0.9636\n",
      "Epoch 19/50\n",
      "68/68 [==============================] - 646s 9s/step - loss: 0.0614 - accuracy: 0.9805 - val_loss: 0.0104 - val_accuracy: 0.9817\n",
      "Epoch 20/50\n",
      "68/68 [==============================] - 565s 8s/step - loss: 0.0577 - accuracy: 0.9813 - val_loss: 0.0076 - val_accuracy: 0.9722\n",
      "Epoch 21/50\n",
      "68/68 [==============================] - 566s 8s/step - loss: 0.0580 - accuracy: 0.9816 - val_loss: 0.0807 - val_accuracy: 0.9811\n",
      "Epoch 22/50\n",
      "68/68 [==============================] - 600s 9s/step - loss: 0.0566 - accuracy: 0.9819 - val_loss: 0.0116 - val_accuracy: 0.9480\n",
      "Epoch 23/50\n",
      "68/68 [==============================] - 640s 9s/step - loss: 0.0514 - accuracy: 0.9838 - val_loss: 0.3494 - val_accuracy: 0.9361\n",
      "Epoch 24/50\n",
      "68/68 [==============================] - 676s 10s/step - loss: 0.0551 - accuracy: 0.9827 - val_loss: 0.1333 - val_accuracy: 0.9822\n",
      "Epoch 25/50\n",
      "68/68 [==============================] - 708s 10s/step - loss: 0.0543 - accuracy: 0.9826 - val_loss: 0.0184 - val_accuracy: 0.9812\n",
      "Epoch 26/50\n",
      "68/68 [==============================] - 699s 10s/step - loss: 0.0554 - accuracy: 0.9824 - val_loss: 0.1335 - val_accuracy: 0.9811\n",
      "Epoch 27/50\n",
      "68/68 [==============================] - 650s 10s/step - loss: 0.0539 - accuracy: 0.9829 - val_loss: 0.0227 - val_accuracy: 0.9758\n",
      "Epoch 28/50\n",
      "68/68 [==============================] - 580s 9s/step - loss: 0.0489 - accuracy: 0.9844 - val_loss: 0.0546 - val_accuracy: 0.9814\n",
      "Epoch 29/50\n",
      "68/68 [==============================] - 579s 9s/step - loss: 0.0473 - accuracy: 0.9850 - val_loss: 0.0066 - val_accuracy: 0.9744\n",
      "Epoch 30/50\n",
      "68/68 [==============================] - 562s 8s/step - loss: 0.0527 - accuracy: 0.9842 - val_loss: 0.2481 - val_accuracy: 0.9790\n",
      "Epoch 31/50\n",
      "68/68 [==============================] - 575s 8s/step - loss: 0.0479 - accuracy: 0.9845 - val_loss: 0.0255 - val_accuracy: 0.9811\n",
      "Epoch 32/50\n",
      "68/68 [==============================] - 570s 8s/step - loss: 0.0459 - accuracy: 0.9850 - val_loss: 0.0783 - val_accuracy: 0.9862\n",
      "Epoch 33/50\n",
      "68/68 [==============================] - 574s 8s/step - loss: 0.0476 - accuracy: 0.9845 - val_loss: 0.0857 - val_accuracy: 0.9786\n",
      "Epoch 34/50\n",
      "68/68 [==============================] - 584s 9s/step - loss: 0.0441 - accuracy: 0.9855 - val_loss: 0.0967 - val_accuracy: 0.9807\n",
      "Epoch 35/50\n",
      "68/68 [==============================] - 577s 8s/step - loss: 0.0451 - accuracy: 0.9852 - val_loss: 0.0913 - val_accuracy: 0.9682\n",
      "Epoch 36/50\n",
      "68/68 [==============================] - 575s 8s/step - loss: 0.0453 - accuracy: 0.9854 - val_loss: 0.0590 - val_accuracy: 0.9835\n",
      "Epoch 37/50\n",
      "68/68 [==============================] - 574s 8s/step - loss: 0.0446 - accuracy: 0.9859 - val_loss: 0.1134 - val_accuracy: 0.9560\n",
      "Epoch 38/50\n",
      "68/68 [==============================] - 578s 8s/step - loss: 0.0432 - accuracy: 0.9861 - val_loss: 0.0020 - val_accuracy: 0.9868\n",
      "Epoch 39/50\n",
      "68/68 [==============================] - 575s 8s/step - loss: 0.0448 - accuracy: 0.9862 - val_loss: 0.0020 - val_accuracy: 0.9813\n",
      "Epoch 40/50\n",
      "68/68 [==============================] - 594s 9s/step - loss: 0.0420 - accuracy: 0.9861 - val_loss: 0.0748 - val_accuracy: 0.9885\n",
      "Epoch 41/50\n",
      "68/68 [==============================] - 666s 10s/step - loss: 0.0414 - accuracy: 0.9865 - val_loss: 0.0034 - val_accuracy: 0.9876\n",
      "Epoch 42/50\n",
      "68/68 [==============================] - 615s 9s/step - loss: 0.0393 - accuracy: 0.9872 - val_loss: 0.0094 - val_accuracy: 0.9844\n",
      "Epoch 43/50\n",
      "68/68 [==============================] - 626s 9s/step - loss: 0.0417 - accuracy: 0.9867 - val_loss: 0.0024 - val_accuracy: 0.9866\n",
      "Epoch 44/50\n",
      "68/68 [==============================] - 649s 10s/step - loss: 0.0397 - accuracy: 0.9869 - val_loss: 0.0437 - val_accuracy: 0.9848\n",
      "Epoch 45/50\n",
      "68/68 [==============================] - 757s 11s/step - loss: 0.0398 - accuracy: 0.9873 - val_loss: 0.2468 - val_accuracy: 0.9870\n",
      "Epoch 46/50\n",
      "68/68 [==============================] - 666s 10s/step - loss: 0.0374 - accuracy: 0.9881 - val_loss: 0.1419 - val_accuracy: 0.9880\n",
      "Epoch 47/50\n",
      "68/68 [==============================] - 700s 10s/step - loss: 0.0411 - accuracy: 0.9871 - val_loss: 0.3106 - val_accuracy: 0.9805\n",
      "Epoch 48/50\n",
      "68/68 [==============================] - 794s 12s/step - loss: 0.0379 - accuracy: 0.9882 - val_loss: 0.0599 - val_accuracy: 0.9885\n",
      "Epoch 49/50\n",
      "68/68 [==============================] - 695s 10s/step - loss: 0.0388 - accuracy: 0.9877 - val_loss: 0.0080 - val_accuracy: 0.9891\n",
      "Epoch 50/50\n",
      "68/68 [==============================] - 694s 10s/step - loss: 0.0382 - accuracy: 0.9876 - val_loss: 0.0050 - val_accuracy: 0.9859\n"
     ]
    }
   ],
   "source": [
    "history_final = model.fit_generator(train_datagen.flow(\n",
    "    X_train_total, y_train_total, batch_size=1024),\n",
    "    epochs = 50, \n",
    "    steps_per_epoch = X_train_total.shape[0]//1024,\n",
    "    validation_data = valid_datagen.flow(X_validation, y_validation))"
   ]
  },
  {
   "cell_type": "markdown",
   "metadata": {},
   "source": [
    "With the model fully trained, one can now visualize the average training and validation behaviors. I won't be able to view the accuracy of the predictions from this model, as I will be, finally, predicting using the test set. Instead, this final set of predctions will be used as my submission for the competition."
   ]
  },
  {
   "cell_type": "markdown",
   "metadata": {},
   "source": [
    "**Visualizations**"
   ]
  },
  {
   "cell_type": "code",
   "execution_count": 26,
   "metadata": {},
   "outputs": [
    {
     "data": {
      "image/png": "[encoded data removed]",
      "text/plain": [
       "<Figure size 648x504 with 1 Axes>"
      ]
     },
     "metadata": {
      "needs_background": "light"
     },
     "output_type": "display_data"
    }
   ],
   "source": [
    "plt.figure(figsize=(9,7))\n",
    "plt.plot(history_final.history[\"accuracy\"])\n",
    "plt.plot(history_final.history[\"val_accuracy\"])\n",
    "plt.title(\"Accuracy on Training Data vs. Accuracy on Validation Data\\nTraining Step 3\")\n",
    "plt.legend([\"Train\", \"Validation\"], loc = \"lower right\")\n",
    "plt.xlabel(\"Epoch\")\n",
    "plt.ylabel(\"Loss\")\n",
    "plt.savefig(\"Images/Accuracy_TrainS3.png\")"
   ]
  },
  {
   "cell_type": "code",
   "execution_count": 27,
   "metadata": {
    "scrolled": false
   },
   "outputs": [
    {
     "data": {
      "image/png": "[encoded data removed]",
      "text/plain": [
       "<Figure size 648x504 with 1 Axes>"
      ]
     },
     "metadata": {
      "needs_background": "light"
     },
     "output_type": "display_data"
    }
   ],
   "source": [
    "plt.figure(figsize = (9,7))\n",
    "plt.plot(history_final.history[\"loss\"])\n",
    "plt.plot(history_final.history[\"val_loss\"])\n",
    "plt.title(\"Loss on Training Data vs. Loss on Validation Data\\nTraining Step 3\")\n",
    "plt.legend([\"Train\", \"Validation\"], loc = \"upper right\")\n",
    "plt.xlabel(\"Epoch\")\n",
    "plt.ylabel(\"Loss\")\n",
    "plt.savefig(\"Images/Loss_trainS3.png\")"
   ]
  },
  {
   "cell_type": "markdown",
   "metadata": {},
   "source": [
    "* * *"
   ]
  },
  {
   "cell_type": "markdown",
   "metadata": {},
   "source": [
    "## Submissions\n",
    "For the submission for the competion, I'll be predicting off of the test set. These predictions will be concatenated with the id column from the test data, and then judged on the kaggle website. "
   ]
  },
  {
   "cell_type": "code",
   "execution_count": 29,
   "metadata": {},
   "outputs": [],
   "source": [
    "preds = history_final.model.predict_classes(test)"
   ]
  },
  {
   "cell_type": "code",
   "execution_count": 32,
   "metadata": {
    "scrolled": true
   },
   "outputs": [
    {
     "data": {
      "text/plain": [
       "array([3, 0, 2, 6, 7, 7, 1, 9, 3, 4])"
      ]
     },
     "execution_count": 32,
     "metadata": {},
     "output_type": "execute_result"
    }
   ],
   "source": [
    "preds[:10]"
   ]
  },
  {
   "cell_type": "code",
   "execution_count": 36,
   "metadata": {},
   "outputs": [],
   "source": [
    "submission = pd.DataFrame(data = [pd.Series(test_id, name = \"id\"), pd.Series(preds, name = \"label\")], ).T"
   ]
  },
  {
   "cell_type": "code",
   "execution_count": 37,
   "metadata": {},
   "outputs": [
    {
     "data": {
      "text/html": [
       "<div>\n",
       "<style scoped>\n",
       "    .dataframe tbody tr th:only-of-type {\n",
       "        vertical-align: middle;\n",
       "    }\n",
       "\n",
       "    .dataframe tbody tr th {\n",
       "        vertical-align: top;\n",
       "    }\n",
       "\n",
       "    .dataframe thead th {\n",
       "        text-align: right;\n",
       "    }\n",
       "</style>\n",
       "<table border=\"1\" class=\"dataframe\">\n",
       "  <thead>\n",
       "    <tr style=\"text-align: right;\">\n",
       "      <th></th>\n",
       "      <th>id</th>\n",
       "      <th>label</th>\n",
       "    </tr>\n",
       "  </thead>\n",
       "  <tbody>\n",
       "    <tr>\n",
       "      <th>0</th>\n",
       "      <td>0</td>\n",
       "      <td>3</td>\n",
       "    </tr>\n",
       "    <tr>\n",
       "      <th>1</th>\n",
       "      <td>1</td>\n",
       "      <td>0</td>\n",
       "    </tr>\n",
       "    <tr>\n",
       "      <th>2</th>\n",
       "      <td>2</td>\n",
       "      <td>2</td>\n",
       "    </tr>\n",
       "    <tr>\n",
       "      <th>3</th>\n",
       "      <td>3</td>\n",
       "      <td>6</td>\n",
       "    </tr>\n",
       "    <tr>\n",
       "      <th>4</th>\n",
       "      <td>4</td>\n",
       "      <td>7</td>\n",
       "    </tr>\n",
       "  </tbody>\n",
       "</table>\n",
       "</div>"
      ],
      "text/plain": [
       "   id  label\n",
       "0   0      3\n",
       "1   1      0\n",
       "2   2      2\n",
       "3   3      6\n",
       "4   4      7"
      ]
     },
     "execution_count": 37,
     "metadata": {},
     "output_type": "execute_result"
    }
   ],
   "source": [
    "submission.head()"
   ]
  },
  {
   "cell_type": "code",
   "execution_count": 39,
   "metadata": {},
   "outputs": [],
   "source": [
    "submission.to_csv(\"Submissions/Sub1.csv\", index = False)"
   ]
  },
  {
   "cell_type": "markdown",
   "metadata": {},
   "source": [
    "A Note book matching the work shown here can be found on kaggle as my public submission, [here](https://www.kaggle.com/annaelshayeb/kannada-digit-recognition?scriptVersionId=24908775), where it can be seen that I achevied an accuracy of 98.5% with my final model."
   ]
  },
  {
   "cell_type": "code",
   "execution_count": null,
   "metadata": {},
   "outputs": [],
   "source": []
  }
 ],
 "metadata": {
  "kernelspec": {
   "display_name": "Python 3",
   "language": "python",
   "name": "python3"
  },
  "language_info": {
   "codemirror_mode": {
    "name": "ipython",
    "version": 3
   },
   "file_extension": ".py",
   "mimetype": "text/x-python",
   "name": "python",
   "nbconvert_exporter": "python",
   "pygments_lexer": "ipython3",
   "version": "3.7.3"
  }
 },
 "nbformat": 4,
 "nbformat_minor": 2
}
